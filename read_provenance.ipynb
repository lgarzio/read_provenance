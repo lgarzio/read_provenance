{
 "cells": [
  {
   "cell_type": "code",
   "execution_count": 18,
   "metadata": {
    "collapsed": true
   },
   "outputs": [],
   "source": [
    "import json\n",
    "import netCDF4 as nc\n",
    "import os"
   ]
  },
  {
   "cell_type": "code",
   "execution_count": 19,
   "metadata": {
    "collapsed": true
   },
   "outputs": [],
   "source": [
    "# Setup save directory and file\n",
    "save_dir = '/Users/michaesm/Downloads/provenance/'\n",
    "ncml_file='/Users/michaesm/Downloads/CE04OSPS-SF01B-2A-CTDPFA107-streamed-ctdpf_sbe43_sample-20150906T000000-20150909T120000.nc'"
   ]
  },
  {
   "cell_type": "code",
   "execution_count": 20,
   "metadata": {
    "collapsed": false
   },
   "outputs": [
    {
     "name": "stdout",
     "output_type": "stream",
     "text": [
      "Printing provenance information for CE04OSPS-SF01B-2A-CTDPFA107-streamed-ctdpf_sbe43_sample-20150906T000000-20150909T120000.nc\n",
      "key : Value\n"
     ]
    }
   ],
   "source": [
    "# grab file name for saving of json file\n",
    "file_name = os.path.basename(ncml_file)\n",
    "print \"Printing provenance information for \" + file_name\n",
    "print \"key : Value\"\n",
    "file_load = nc.Dataset(ncml_file)"
   ]
  },
  {
   "cell_type": "code",
   "execution_count": 21,
   "metadata": {
    "collapsed": true
   },
   "outputs": [],
   "source": [
    "# only list the provenance variables in the netcdf files\n",
    "prov_list = [s for s in file_load.variables if 'provenance' in s]"
   ]
  },
  {
   "cell_type": "code",
   "execution_count": 22,
   "metadata": {
    "collapsed": false
   },
   "outputs": [
    {
     "name": "stdout",
     "output_type": "stream",
     "text": [
      "query_parameter_provenance\n",
      "computed_provenance\n",
      "instrument_provenance\n",
      "provenance\n",
      "l0_provenance_information\n"
     ]
    }
   ],
   "source": [
    "for vars in prov_list:\n",
    "    print vars"
   ]
  },
  {
   "cell_type": "code",
   "execution_count": 23,
   "metadata": {
    "collapsed": true
   },
   "outputs": [],
   "source": [
    "# grab the provenance\n",
    "var = 'computed_provenance'\n",
    "qp = nc.chartostring((file_load.variables[var][:])) # convert character to string using netcdf4 toolbox\n",
    "parsed_json = json.loads(qp[0]) # load string into json"
   ]
  },
  {
   "cell_type": "code",
   "execution_count": 24,
   "metadata": {
    "collapsed": true
   },
   "outputs": [],
   "source": [
    "# save the provenance\n",
    "save_file = os.path.join(save_dir, file_name) # create save file name\n",
    "outfile = open(save_file + \"-\" + var + \".json\", \"w\") #create json file\n",
    "json.dump(parsed_json, outfile) # dump json data into the .json file\n",
    "outfile.close() # close the file."
   ]
  }
 ],
 "metadata": {
  "kernelspec": {
   "display_name": "Python 2",
   "language": "python",
   "name": "python2"
  },
  "language_info": {
   "codemirror_mode": {
    "name": "ipython",
    "version": 2
   },
   "file_extension": ".py",
   "mimetype": "text/x-python",
   "name": "python",
   "nbconvert_exporter": "python",
   "pygments_lexer": "ipython2",
   "version": "2.7.9"
  }
 },
 "nbformat": 4,
 "nbformat_minor": 0
}
